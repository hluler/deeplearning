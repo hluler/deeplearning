{
 "cells": [
  {
   "cell_type": "code",
   "execution_count": 1,
   "metadata": {},
   "outputs": [
    {
     "name": "stdout",
     "output_type": "stream",
     "text": [
      "2.1.0\n"
     ]
    }
   ],
   "source": [
    "import tensorflow as tf\n",
    "print(tf.__version__)"
   ]
  },
  {
   "cell_type": "code",
   "execution_count": 2,
   "metadata": {},
   "outputs": [],
   "source": [
    "from sklearn.datasets import load_breast_cancer"
   ]
  },
  {
   "cell_type": "code",
   "execution_count": 3,
   "metadata": {},
   "outputs": [],
   "source": [
    "data = load_breast_cancer()"
   ]
  },
  {
   "cell_type": "code",
   "execution_count": 4,
   "metadata": {},
   "outputs": [
    {
     "data": {
      "text/plain": [
       "sklearn.utils.Bunch"
      ]
     },
     "execution_count": 4,
     "metadata": {},
     "output_type": "execute_result"
    }
   ],
   "source": [
    "type(data)"
   ]
  },
  {
   "cell_type": "code",
   "execution_count": 5,
   "metadata": {},
   "outputs": [
    {
     "data": {
      "text/plain": [
       "dict_keys(['data', 'target', 'target_names', 'DESCR', 'feature_names', 'filename'])"
      ]
     },
     "execution_count": 5,
     "metadata": {},
     "output_type": "execute_result"
    }
   ],
   "source": [
    "data.keys()"
   ]
  },
  {
   "cell_type": "code",
   "execution_count": 6,
   "metadata": {},
   "outputs": [
    {
     "data": {
      "text/plain": [
       "(569, 30)"
      ]
     },
     "execution_count": 6,
     "metadata": {},
     "output_type": "execute_result"
    }
   ],
   "source": [
    "data.data.shape"
   ]
  },
  {
   "cell_type": "code",
   "execution_count": 7,
   "metadata": {},
   "outputs": [
    {
     "data": {
      "text/plain": [
       "array([0, 0, 0, 0, 0, 0, 0, 0, 0, 0, 0, 0, 0, 0, 0, 0, 0, 0, 0, 1, 1, 1,\n",
       "       0, 0, 0, 0, 0, 0, 0, 0, 0, 0, 0, 0, 0, 0, 0, 1, 0, 0, 0, 0, 0, 0,\n",
       "       0, 0, 1, 0, 1, 1, 1, 1, 1, 0, 0, 1, 0, 0, 1, 1, 1, 1, 0, 1, 0, 0,\n",
       "       1, 1, 1, 1, 0, 1, 0, 0, 1, 0, 1, 0, 0, 1, 1, 1, 0, 0, 1, 0, 0, 0,\n",
       "       1, 1, 1, 0, 1, 1, 0, 0, 1, 1, 1, 0, 0, 1, 1, 1, 1, 0, 1, 1, 0, 1,\n",
       "       1, 1, 1, 1, 1, 1, 1, 0, 0, 0, 1, 0, 0, 1, 1, 1, 0, 0, 1, 0, 1, 0,\n",
       "       0, 1, 0, 0, 1, 1, 0, 1, 1, 0, 1, 1, 1, 1, 0, 1, 1, 1, 1, 1, 1, 1,\n",
       "       1, 1, 0, 1, 1, 1, 1, 0, 0, 1, 0, 1, 1, 0, 0, 1, 1, 0, 0, 1, 1, 1,\n",
       "       1, 0, 1, 1, 0, 0, 0, 1, 0, 1, 0, 1, 1, 1, 0, 1, 1, 0, 0, 1, 0, 0,\n",
       "       0, 0, 1, 0, 0, 0, 1, 0, 1, 0, 1, 1, 0, 1, 0, 0, 0, 0, 1, 1, 0, 0,\n",
       "       1, 1, 1, 0, 1, 1, 1, 1, 1, 0, 0, 1, 1, 0, 1, 1, 0, 0, 1, 0, 1, 1,\n",
       "       1, 1, 0, 1, 1, 1, 1, 1, 0, 1, 0, 0, 0, 0, 0, 0, 0, 0, 0, 0, 0, 0,\n",
       "       0, 0, 1, 1, 1, 1, 1, 1, 0, 1, 0, 1, 1, 0, 1, 1, 0, 1, 0, 0, 1, 1,\n",
       "       1, 1, 1, 1, 1, 1, 1, 1, 1, 1, 1, 0, 1, 1, 0, 1, 0, 1, 1, 1, 1, 1,\n",
       "       1, 1, 1, 1, 1, 1, 1, 1, 1, 0, 1, 1, 1, 0, 1, 0, 1, 1, 1, 1, 0, 0,\n",
       "       0, 1, 1, 1, 1, 0, 1, 0, 1, 0, 1, 1, 1, 0, 1, 1, 1, 1, 1, 1, 1, 0,\n",
       "       0, 0, 1, 1, 1, 1, 1, 1, 1, 1, 1, 1, 1, 0, 0, 1, 0, 0, 0, 1, 0, 0,\n",
       "       1, 1, 1, 1, 1, 0, 1, 1, 1, 1, 1, 0, 1, 1, 1, 0, 1, 1, 0, 0, 1, 1,\n",
       "       1, 1, 1, 1, 0, 1, 1, 1, 1, 1, 1, 1, 0, 1, 1, 1, 1, 1, 0, 1, 1, 0,\n",
       "       1, 1, 1, 1, 1, 1, 1, 1, 1, 1, 1, 1, 0, 1, 0, 0, 1, 0, 1, 1, 1, 1,\n",
       "       1, 0, 1, 1, 0, 1, 0, 1, 1, 0, 1, 0, 1, 1, 1, 1, 1, 1, 1, 1, 0, 0,\n",
       "       1, 1, 1, 1, 1, 1, 0, 1, 1, 1, 1, 1, 1, 1, 1, 1, 1, 0, 1, 1, 1, 1,\n",
       "       1, 1, 1, 0, 1, 0, 1, 1, 0, 1, 1, 1, 1, 1, 0, 0, 1, 0, 1, 0, 1, 1,\n",
       "       1, 1, 1, 0, 1, 1, 0, 1, 0, 1, 0, 0, 1, 1, 1, 0, 1, 1, 1, 1, 1, 1,\n",
       "       1, 1, 1, 1, 1, 0, 1, 0, 0, 1, 1, 1, 1, 1, 1, 1, 1, 1, 1, 1, 1, 1,\n",
       "       1, 1, 1, 1, 1, 1, 1, 1, 1, 1, 1, 1, 0, 0, 0, 0, 0, 0, 1])"
      ]
     },
     "execution_count": 7,
     "metadata": {},
     "output_type": "execute_result"
    }
   ],
   "source": [
    "data.target"
   ]
  },
  {
   "cell_type": "code",
   "execution_count": 8,
   "metadata": {},
   "outputs": [
    {
     "data": {
      "text/plain": [
       "array(['malignant', 'benign'], dtype='<U9')"
      ]
     },
     "execution_count": 8,
     "metadata": {},
     "output_type": "execute_result"
    }
   ],
   "source": [
    "data.target_names"
   ]
  },
  {
   "cell_type": "code",
   "execution_count": 9,
   "metadata": {},
   "outputs": [
    {
     "data": {
      "text/plain": [
       "array(['mean radius', 'mean texture', 'mean perimeter', 'mean area',\n",
       "       'mean smoothness', 'mean compactness', 'mean concavity',\n",
       "       'mean concave points', 'mean symmetry', 'mean fractal dimension',\n",
       "       'radius error', 'texture error', 'perimeter error', 'area error',\n",
       "       'smoothness error', 'compactness error', 'concavity error',\n",
       "       'concave points error', 'symmetry error',\n",
       "       'fractal dimension error', 'worst radius', 'worst texture',\n",
       "       'worst perimeter', 'worst area', 'worst smoothness',\n",
       "       'worst compactness', 'worst concavity', 'worst concave points',\n",
       "       'worst symmetry', 'worst fractal dimension'], dtype='<U23')"
      ]
     },
     "execution_count": 9,
     "metadata": {},
     "output_type": "execute_result"
    }
   ],
   "source": [
    "data.feature_names"
   ]
  },
  {
   "cell_type": "code",
   "execution_count": 10,
   "metadata": {},
   "outputs": [
    {
     "data": {
      "text/plain": [
       "30"
      ]
     },
     "execution_count": 10,
     "metadata": {},
     "output_type": "execute_result"
    }
   ],
   "source": [
    "len(data.feature_names)"
   ]
  },
  {
   "cell_type": "code",
   "execution_count": 11,
   "metadata": {},
   "outputs": [],
   "source": [
    "from sklearn.model_selection import train_test_split\n",
    "\n",
    "X_train, X_test, Y_train, Y_test = train_test_split(data.data, data.target, test_size=0.33)"
   ]
  },
  {
   "cell_type": "code",
   "execution_count": 12,
   "metadata": {},
   "outputs": [],
   "source": [
    "X,D = X_train.shape"
   ]
  },
  {
   "cell_type": "code",
   "execution_count": 13,
   "metadata": {},
   "outputs": [
    {
     "name": "stdout",
     "output_type": "stream",
     "text": [
      "381 30\n"
     ]
    }
   ],
   "source": [
    "print(X,D)"
   ]
  },
  {
   "cell_type": "code",
   "execution_count": 14,
   "metadata": {},
   "outputs": [],
   "source": [
    "from sklearn.preprocessing import StandardScaler\n",
    "\n",
    "scaler = StandardScaler()\n",
    "\n",
    "X_train = scaler.fit_transform(X_train)\n",
    "X_test = scaler.transform(X_test)"
   ]
  },
  {
   "cell_type": "code",
   "execution_count": 15,
   "metadata": {},
   "outputs": [],
   "source": [
    "model = tf.keras.models.Sequential([\n",
    "    tf.keras.layers.Input(shape=(D,)),\n",
    "    tf.keras.layers.Dense(1, activation='sigmoid')\n",
    "])"
   ]
  },
  {
   "cell_type": "code",
   "execution_count": 16,
   "metadata": {},
   "outputs": [],
   "source": [
    "model.compile(optimizer='adam',\n",
    "             loss='binary_crossentropy',\n",
    "             metrics=['accuracy'])"
   ]
  },
  {
   "cell_type": "code",
   "execution_count": 17,
   "metadata": {},
   "outputs": [
    {
     "name": "stdout",
     "output_type": "stream",
     "text": [
      "Train on 381 samples, validate on 188 samples\n",
      "Epoch 1/100\n",
      "381/381 [==============================] - 1s 3ms/sample - loss: 0.7661 - accuracy: 0.5328 - val_loss: 0.7150 - val_accuracy: 0.5585\n",
      "Epoch 2/100\n",
      "381/381 [==============================] - 0s 155us/sample - loss: 0.6878 - accuracy: 0.6142 - val_loss: 0.6488 - val_accuracy: 0.6596\n",
      "Epoch 3/100\n",
      "381/381 [==============================] - 0s 68us/sample - loss: 0.6212 - accuracy: 0.6640 - val_loss: 0.5918 - val_accuracy: 0.7234\n",
      "Epoch 4/100\n",
      "381/381 [==============================] - 0s 62us/sample - loss: 0.5653 - accuracy: 0.7323 - val_loss: 0.5422 - val_accuracy: 0.7553\n",
      "Epoch 5/100\n",
      "381/381 [==============================] - 0s 58us/sample - loss: 0.5173 - accuracy: 0.7795 - val_loss: 0.5004 - val_accuracy: 0.7926\n",
      "Epoch 6/100\n",
      "381/381 [==============================] - 0s 60us/sample - loss: 0.4780 - accuracy: 0.8163 - val_loss: 0.4641 - val_accuracy: 0.8404\n",
      "Epoch 7/100\n",
      "381/381 [==============================] - 0s 70us/sample - loss: 0.4438 - accuracy: 0.8504 - val_loss: 0.4335 - val_accuracy: 0.8617\n",
      "Epoch 8/100\n",
      "381/381 [==============================] - 0s 64us/sample - loss: 0.4157 - accuracy: 0.8661 - val_loss: 0.4063 - val_accuracy: 0.8830\n",
      "Epoch 9/100\n",
      "381/381 [==============================] - 0s 60us/sample - loss: 0.3910 - accuracy: 0.8924 - val_loss: 0.3829 - val_accuracy: 0.8989\n",
      "Epoch 10/100\n",
      "381/381 [==============================] - 0s 60us/sample - loss: 0.3696 - accuracy: 0.9029 - val_loss: 0.3624 - val_accuracy: 0.8936\n",
      "Epoch 11/100\n",
      "381/381 [==============================] - 0s 70us/sample - loss: 0.3509 - accuracy: 0.9134 - val_loss: 0.3442 - val_accuracy: 0.8989\n",
      "Epoch 12/100\n",
      "381/381 [==============================] - 0s 64us/sample - loss: 0.3345 - accuracy: 0.9213 - val_loss: 0.3279 - val_accuracy: 0.9043\n",
      "Epoch 13/100\n",
      "381/381 [==============================] - 0s 70us/sample - loss: 0.3198 - accuracy: 0.9291 - val_loss: 0.3132 - val_accuracy: 0.9255\n",
      "Epoch 14/100\n",
      "381/381 [==============================] - 0s 67us/sample - loss: 0.3067 - accuracy: 0.9344 - val_loss: 0.2999 - val_accuracy: 0.9309\n",
      "Epoch 15/100\n",
      "381/381 [==============================] - 0s 64us/sample - loss: 0.2948 - accuracy: 0.9396 - val_loss: 0.2878 - val_accuracy: 0.9362\n",
      "Epoch 16/100\n",
      "381/381 [==============================] - 0s 73us/sample - loss: 0.2838 - accuracy: 0.9475 - val_loss: 0.2770 - val_accuracy: 0.9468\n",
      "Epoch 17/100\n",
      "381/381 [==============================] - 0s 65us/sample - loss: 0.2738 - accuracy: 0.9528 - val_loss: 0.2671 - val_accuracy: 0.9468\n",
      "Epoch 18/100\n",
      "381/381 [==============================] - 0s 55us/sample - loss: 0.2648 - accuracy: 0.9580 - val_loss: 0.2579 - val_accuracy: 0.9468\n",
      "Epoch 19/100\n",
      "381/381 [==============================] - 0s 63us/sample - loss: 0.2566 - accuracy: 0.9580 - val_loss: 0.2493 - val_accuracy: 0.9521\n",
      "Epoch 20/100\n",
      "381/381 [==============================] - 0s 77us/sample - loss: 0.2489 - accuracy: 0.9580 - val_loss: 0.2413 - val_accuracy: 0.9521\n",
      "Epoch 21/100\n",
      "381/381 [==============================] - 0s 64us/sample - loss: 0.2415 - accuracy: 0.9606 - val_loss: 0.2340 - val_accuracy: 0.9574\n",
      "Epoch 22/100\n",
      "381/381 [==============================] - 0s 71us/sample - loss: 0.2347 - accuracy: 0.9606 - val_loss: 0.2273 - val_accuracy: 0.9574\n",
      "Epoch 23/100\n",
      "381/381 [==============================] - 0s 70us/sample - loss: 0.2286 - accuracy: 0.9606 - val_loss: 0.2208 - val_accuracy: 0.9574\n",
      "Epoch 24/100\n",
      "381/381 [==============================] - 0s 65us/sample - loss: 0.2226 - accuracy: 0.9633 - val_loss: 0.2149 - val_accuracy: 0.9521\n",
      "Epoch 25/100\n",
      "381/381 [==============================] - 0s 56us/sample - loss: 0.2171 - accuracy: 0.9685 - val_loss: 0.2094 - val_accuracy: 0.9574\n",
      "Epoch 26/100\n",
      "381/381 [==============================] - 0s 67us/sample - loss: 0.2118 - accuracy: 0.9711 - val_loss: 0.2042 - val_accuracy: 0.9574\n",
      "Epoch 27/100\n",
      "381/381 [==============================] - 0s 72us/sample - loss: 0.2069 - accuracy: 0.9764 - val_loss: 0.1994 - val_accuracy: 0.9574\n",
      "Epoch 28/100\n",
      "381/381 [==============================] - 0s 75us/sample - loss: 0.2022 - accuracy: 0.9764 - val_loss: 0.1948 - val_accuracy: 0.9628\n",
      "Epoch 29/100\n",
      "381/381 [==============================] - 0s 68us/sample - loss: 0.1980 - accuracy: 0.9790 - val_loss: 0.1904 - val_accuracy: 0.9628\n",
      "Epoch 30/100\n",
      "381/381 [==============================] - 0s 76us/sample - loss: 0.1935 - accuracy: 0.9790 - val_loss: 0.1864 - val_accuracy: 0.9628\n",
      "Epoch 31/100\n",
      "381/381 [==============================] - 0s 70us/sample - loss: 0.1896 - accuracy: 0.9790 - val_loss: 0.1825 - val_accuracy: 0.9628\n",
      "Epoch 32/100\n",
      "381/381 [==============================] - 0s 67us/sample - loss: 0.1858 - accuracy: 0.9790 - val_loss: 0.1789 - val_accuracy: 0.9628\n",
      "Epoch 33/100\n",
      "381/381 [==============================] - 0s 71us/sample - loss: 0.1822 - accuracy: 0.9790 - val_loss: 0.1755 - val_accuracy: 0.9628\n",
      "Epoch 34/100\n",
      "381/381 [==============================] - 0s 67us/sample - loss: 0.1787 - accuracy: 0.9790 - val_loss: 0.1722 - val_accuracy: 0.9628\n",
      "Epoch 35/100\n",
      "381/381 [==============================] - 0s 64us/sample - loss: 0.1752 - accuracy: 0.9790 - val_loss: 0.1691 - val_accuracy: 0.9628\n",
      "Epoch 36/100\n",
      "381/381 [==============================] - 0s 66us/sample - loss: 0.1720 - accuracy: 0.9790 - val_loss: 0.1662 - val_accuracy: 0.9628\n",
      "Epoch 37/100\n",
      "381/381 [==============================] - 0s 68us/sample - loss: 0.1690 - accuracy: 0.9816 - val_loss: 0.1634 - val_accuracy: 0.9628\n",
      "Epoch 38/100\n",
      "381/381 [==============================] - 0s 76us/sample - loss: 0.1660 - accuracy: 0.9816 - val_loss: 0.1607 - val_accuracy: 0.9628\n",
      "Epoch 39/100\n",
      "381/381 [==============================] - 0s 68us/sample - loss: 0.1633 - accuracy: 0.9816 - val_loss: 0.1582 - val_accuracy: 0.9628\n",
      "Epoch 40/100\n",
      "381/381 [==============================] - 0s 57us/sample - loss: 0.1605 - accuracy: 0.9816 - val_loss: 0.1557 - val_accuracy: 0.9628\n",
      "Epoch 41/100\n",
      "381/381 [==============================] - 0s 63us/sample - loss: 0.1579 - accuracy: 0.9816 - val_loss: 0.1534 - val_accuracy: 0.9681\n",
      "Epoch 42/100\n",
      "381/381 [==============================] - 0s 72us/sample - loss: 0.1556 - accuracy: 0.9816 - val_loss: 0.1512 - val_accuracy: 0.9681\n",
      "Epoch 43/100\n",
      "381/381 [==============================] - 0s 67us/sample - loss: 0.1529 - accuracy: 0.9816 - val_loss: 0.1491 - val_accuracy: 0.9681\n",
      "Epoch 44/100\n",
      "381/381 [==============================] - 0s 65us/sample - loss: 0.1506 - accuracy: 0.9816 - val_loss: 0.1471 - val_accuracy: 0.9681\n",
      "Epoch 45/100\n",
      "381/381 [==============================] - 0s 64us/sample - loss: 0.1483 - accuracy: 0.9816 - val_loss: 0.1452 - val_accuracy: 0.9681\n",
      "Epoch 46/100\n",
      "381/381 [==============================] - 0s 67us/sample - loss: 0.1462 - accuracy: 0.9816 - val_loss: 0.1433 - val_accuracy: 0.9681\n",
      "Epoch 47/100\n",
      "381/381 [==============================] - 0s 70us/sample - loss: 0.1440 - accuracy: 0.9816 - val_loss: 0.1416 - val_accuracy: 0.9734\n",
      "Epoch 48/100\n",
      "381/381 [==============================] - 0s 70us/sample - loss: 0.1421 - accuracy: 0.9816 - val_loss: 0.1399 - val_accuracy: 0.9734\n",
      "Epoch 49/100\n",
      "381/381 [==============================] - 0s 54us/sample - loss: 0.1400 - accuracy: 0.9816 - val_loss: 0.1382 - val_accuracy: 0.9734\n",
      "Epoch 50/100\n",
      "381/381 [==============================] - 0s 66us/sample - loss: 0.1382 - accuracy: 0.9816 - val_loss: 0.1367 - val_accuracy: 0.9734\n",
      "Epoch 51/100\n",
      "381/381 [==============================] - 0s 64us/sample - loss: 0.1364 - accuracy: 0.9816 - val_loss: 0.1352 - val_accuracy: 0.9734\n",
      "Epoch 52/100\n",
      "381/381 [==============================] - 0s 66us/sample - loss: 0.1346 - accuracy: 0.9816 - val_loss: 0.1337 - val_accuracy: 0.9734\n",
      "Epoch 53/100\n",
      "381/381 [==============================] - 0s 69us/sample - loss: 0.1329 - accuracy: 0.9816 - val_loss: 0.1323 - val_accuracy: 0.9734\n",
      "Epoch 54/100\n",
      "381/381 [==============================] - 0s 65us/sample - loss: 0.1315 - accuracy: 0.9816 - val_loss: 0.1309 - val_accuracy: 0.9734\n",
      "Epoch 55/100\n",
      "381/381 [==============================] - 0s 67us/sample - loss: 0.1296 - accuracy: 0.9816 - val_loss: 0.1297 - val_accuracy: 0.9734\n",
      "Epoch 56/100\n"
     ]
    },
    {
     "name": "stdout",
     "output_type": "stream",
     "text": [
      "381/381 [==============================] - 0s 65us/sample - loss: 0.1281 - accuracy: 0.9816 - val_loss: 0.1284 - val_accuracy: 0.9734\n",
      "Epoch 57/100\n",
      "381/381 [==============================] - 0s 64us/sample - loss: 0.1266 - accuracy: 0.9790 - val_loss: 0.1272 - val_accuracy: 0.9734\n",
      "Epoch 58/100\n",
      "381/381 [==============================] - 0s 65us/sample - loss: 0.1253 - accuracy: 0.9790 - val_loss: 0.1260 - val_accuracy: 0.9734\n",
      "Epoch 59/100\n",
      "381/381 [==============================] - 0s 58us/sample - loss: 0.1238 - accuracy: 0.9790 - val_loss: 0.1248 - val_accuracy: 0.9734\n",
      "Epoch 60/100\n",
      "381/381 [==============================] - 0s 64us/sample - loss: 0.1225 - accuracy: 0.9764 - val_loss: 0.1238 - val_accuracy: 0.9734\n",
      "Epoch 61/100\n",
      "381/381 [==============================] - 0s 60us/sample - loss: 0.1211 - accuracy: 0.9764 - val_loss: 0.1227 - val_accuracy: 0.9734\n",
      "Epoch 62/100\n",
      "381/381 [==============================] - 0s 66us/sample - loss: 0.1199 - accuracy: 0.9764 - val_loss: 0.1217 - val_accuracy: 0.9734\n",
      "Epoch 63/100\n",
      "381/381 [==============================] - 0s 62us/sample - loss: 0.1187 - accuracy: 0.9764 - val_loss: 0.1207 - val_accuracy: 0.9734\n",
      "Epoch 64/100\n",
      "381/381 [==============================] - 0s 67us/sample - loss: 0.1175 - accuracy: 0.9764 - val_loss: 0.1197 - val_accuracy: 0.9734\n",
      "Epoch 65/100\n",
      "381/381 [==============================] - 0s 59us/sample - loss: 0.1164 - accuracy: 0.9764 - val_loss: 0.1188 - val_accuracy: 0.9734\n",
      "Epoch 66/100\n",
      "381/381 [==============================] - 0s 65us/sample - loss: 0.1153 - accuracy: 0.9790 - val_loss: 0.1179 - val_accuracy: 0.9734\n",
      "Epoch 67/100\n",
      "381/381 [==============================] - 0s 59us/sample - loss: 0.1142 - accuracy: 0.9790 - val_loss: 0.1170 - val_accuracy: 0.9734\n",
      "Epoch 68/100\n",
      "381/381 [==============================] - 0s 65us/sample - loss: 0.1131 - accuracy: 0.9790 - val_loss: 0.1162 - val_accuracy: 0.9734\n",
      "Epoch 69/100\n",
      "381/381 [==============================] - 0s 59us/sample - loss: 0.1121 - accuracy: 0.9790 - val_loss: 0.1154 - val_accuracy: 0.9734\n",
      "Epoch 70/100\n",
      "381/381 [==============================] - 0s 56us/sample - loss: 0.1112 - accuracy: 0.9790 - val_loss: 0.1146 - val_accuracy: 0.9734\n",
      "Epoch 71/100\n",
      "381/381 [==============================] - 0s 71us/sample - loss: 0.1102 - accuracy: 0.9790 - val_loss: 0.1139 - val_accuracy: 0.9734\n",
      "Epoch 72/100\n",
      "381/381 [==============================] - 0s 62us/sample - loss: 0.1093 - accuracy: 0.9790 - val_loss: 0.1131 - val_accuracy: 0.9734\n",
      "Epoch 73/100\n",
      "381/381 [==============================] - 0s 59us/sample - loss: 0.1084 - accuracy: 0.9790 - val_loss: 0.1124 - val_accuracy: 0.9734\n",
      "Epoch 74/100\n",
      "381/381 [==============================] - 0s 58us/sample - loss: 0.1075 - accuracy: 0.9790 - val_loss: 0.1117 - val_accuracy: 0.9734\n",
      "Epoch 75/100\n",
      "381/381 [==============================] - 0s 64us/sample - loss: 0.1066 - accuracy: 0.9790 - val_loss: 0.1110 - val_accuracy: 0.9734\n",
      "Epoch 76/100\n",
      "381/381 [==============================] - 0s 62us/sample - loss: 0.1059 - accuracy: 0.9790 - val_loss: 0.1103 - val_accuracy: 0.9734\n",
      "Epoch 77/100\n",
      "381/381 [==============================] - 0s 62us/sample - loss: 0.1050 - accuracy: 0.9790 - val_loss: 0.1096 - val_accuracy: 0.9734\n",
      "Epoch 78/100\n",
      "381/381 [==============================] - 0s 63us/sample - loss: 0.1042 - accuracy: 0.9790 - val_loss: 0.1090 - val_accuracy: 0.9734\n",
      "Epoch 79/100\n",
      "381/381 [==============================] - 0s 62us/sample - loss: 0.1035 - accuracy: 0.9790 - val_loss: 0.1084 - val_accuracy: 0.9734\n",
      "Epoch 80/100\n",
      "381/381 [==============================] - 0s 57us/sample - loss: 0.1028 - accuracy: 0.9790 - val_loss: 0.1078 - val_accuracy: 0.9734\n",
      "Epoch 81/100\n",
      "381/381 [==============================] - 0s 58us/sample - loss: 0.1020 - accuracy: 0.9790 - val_loss: 0.1073 - val_accuracy: 0.9734\n",
      "Epoch 82/100\n",
      "381/381 [==============================] - 0s 50us/sample - loss: 0.1013 - accuracy: 0.9790 - val_loss: 0.1067 - val_accuracy: 0.9734\n",
      "Epoch 83/100\n",
      "381/381 [==============================] - 0s 58us/sample - loss: 0.1007 - accuracy: 0.9790 - val_loss: 0.1061 - val_accuracy: 0.9734\n",
      "Epoch 84/100\n",
      "381/381 [==============================] - 0s 55us/sample - loss: 0.1000 - accuracy: 0.9790 - val_loss: 0.1056 - val_accuracy: 0.9734\n",
      "Epoch 85/100\n",
      "381/381 [==============================] - 0s 60us/sample - loss: 0.0994 - accuracy: 0.9790 - val_loss: 0.1050 - val_accuracy: 0.9734\n",
      "Epoch 86/100\n",
      "381/381 [==============================] - 0s 61us/sample - loss: 0.0987 - accuracy: 0.9790 - val_loss: 0.1045 - val_accuracy: 0.9734\n",
      "Epoch 87/100\n",
      "381/381 [==============================] - 0s 56us/sample - loss: 0.0981 - accuracy: 0.9790 - val_loss: 0.1040 - val_accuracy: 0.9734\n",
      "Epoch 88/100\n",
      "381/381 [==============================] - 0s 51us/sample - loss: 0.0975 - accuracy: 0.9790 - val_loss: 0.1036 - val_accuracy: 0.9734\n",
      "Epoch 89/100\n",
      "381/381 [==============================] - 0s 59us/sample - loss: 0.0969 - accuracy: 0.9790 - val_loss: 0.1030 - val_accuracy: 0.9734\n",
      "Epoch 90/100\n",
      "381/381 [==============================] - 0s 67us/sample - loss: 0.0963 - accuracy: 0.9790 - val_loss: 0.1026 - val_accuracy: 0.9734\n",
      "Epoch 91/100\n",
      "381/381 [==============================] - 0s 53us/sample - loss: 0.0958 - accuracy: 0.9790 - val_loss: 0.1021 - val_accuracy: 0.9734\n",
      "Epoch 92/100\n",
      "381/381 [==============================] - 0s 56us/sample - loss: 0.0952 - accuracy: 0.9790 - val_loss: 0.1017 - val_accuracy: 0.9734\n",
      "Epoch 93/100\n",
      "381/381 [==============================] - 0s 66us/sample - loss: 0.0947 - accuracy: 0.9816 - val_loss: 0.1013 - val_accuracy: 0.9734\n",
      "Epoch 94/100\n",
      "381/381 [==============================] - 0s 65us/sample - loss: 0.0942 - accuracy: 0.9816 - val_loss: 0.1009 - val_accuracy: 0.9734\n",
      "Epoch 95/100\n",
      "381/381 [==============================] - 0s 63us/sample - loss: 0.0937 - accuracy: 0.9816 - val_loss: 0.1004 - val_accuracy: 0.9734\n",
      "Epoch 96/100\n",
      "381/381 [==============================] - 0s 59us/sample - loss: 0.0932 - accuracy: 0.9816 - val_loss: 0.1001 - val_accuracy: 0.9734\n",
      "Epoch 97/100\n",
      "381/381 [==============================] - 0s 66us/sample - loss: 0.0927 - accuracy: 0.9816 - val_loss: 0.0996 - val_accuracy: 0.9734\n",
      "Epoch 98/100\n",
      "381/381 [==============================] - 0s 63us/sample - loss: 0.0922 - accuracy: 0.9816 - val_loss: 0.0992 - val_accuracy: 0.9734\n",
      "Epoch 99/100\n",
      "381/381 [==============================] - 0s 64us/sample - loss: 0.0917 - accuracy: 0.9816 - val_loss: 0.0989 - val_accuracy: 0.9734\n",
      "Epoch 100/100\n",
      "381/381 [==============================] - 0s 65us/sample - loss: 0.0913 - accuracy: 0.9816 - val_loss: 0.0985 - val_accuracy: 0.9734\n"
     ]
    }
   ],
   "source": [
    "r = model.fit(X_train, Y_train, validation_data=(X_test, Y_test), epochs=100)"
   ]
  },
  {
   "cell_type": "code",
   "execution_count": 18,
   "metadata": {},
   "outputs": [
    {
     "name": "stdout",
     "output_type": "stream",
     "text": [
      "381/381 [==============================] - 0s 25us/sample - loss: 0.0910 - accuracy: 0.9816\n",
      "Train score: [0.090976578552579, 0.9816273]\n",
      "188/188 [==============================] - 0s 36us/sample - loss: 0.0985 - accuracy: 0.9734\n",
      "Test score: [0.09852134436368942, 0.9734042]\n"
     ]
    }
   ],
   "source": [
    "print(\"Train score:\", model.evaluate(X_train,Y_train))\n",
    "print(\"Test score:\", model.evaluate(X_test,Y_test ))"
   ]
  },
  {
   "cell_type": "code",
   "execution_count": 20,
   "metadata": {},
   "outputs": [
    {
     "data": {
      "image/png": "[encoded data removed]",
      "text/plain": [
       "<Figure size 432x288 with 1 Axes>"
      ]
     },
     "metadata": {
      "needs_background": "light"
     },
     "output_type": "display_data"
    }
   ],
   "source": [
    "import matplotlib.pyplot as plt\n",
    "\n",
    "plt.plot(r.history['loss'], label='loss')\n",
    "plt.plot(r.history['val_loss'], label='val_loss')\n",
    "\n",
    "plt.legend()\n",
    "plt.show()"
   ]
  },
  {
   "cell_type": "code",
   "execution_count": 43,
   "metadata": {},
   "outputs": [],
   "source": [
    "model.save('linearclassifier.h5')"
   ]
  },
  {
   "cell_type": "code",
   "execution_count": 21,
   "metadata": {},
   "outputs": [
    {
     "data": {
      "image/png": "[encoded data removed]",
      "text/plain": [
       "<Figure size 432x288 with 1 Axes>"
      ]
     },
     "metadata": {
      "needs_background": "light"
     },
     "output_type": "display_data"
    }
   ],
   "source": [
    "plt.plot(r.history['accuracy'],label='accuracy')\n",
    "plt.plot(r.history['val_accuracy'],label='accuracy')\n",
    "plt.show()"
   ]
  },
  {
   "cell_type": "code",
   "execution_count": 22,
   "metadata": {},
   "outputs": [
    {
     "name": "stdout",
     "output_type": "stream",
     "text": [
      "[[9.41626847e-01]\n",
      " [8.83841813e-01]\n",
      " [9.94697928e-01]\n",
      " [8.80653560e-01]\n",
      " [7.99721539e-01]\n",
      " [1.16050076e-04]\n",
      " [1.86038822e-01]\n",
      " [7.99463272e-01]\n",
      " [9.94731307e-01]\n",
      " [8.79597306e-01]\n",
      " [8.41439784e-01]\n",
      " [9.91040766e-01]\n",
      " [9.49921310e-01]\n",
      " [1.36811230e-02]\n",
      " [9.91112649e-01]\n",
      " [9.97605920e-01]\n",
      " [9.90281463e-01]\n",
      " [4.78520133e-02]\n",
      " [9.99560773e-01]\n",
      " [1.88243221e-02]\n",
      " [9.99848247e-01]\n",
      " [4.50970262e-01]\n",
      " [3.78380995e-04]\n",
      " [9.77593899e-01]\n",
      " [2.38799714e-02]\n",
      " [9.86235559e-01]\n",
      " [9.84060943e-01]\n",
      " [4.21978474e-01]\n",
      " [9.49139714e-01]\n",
      " [7.76879191e-01]\n",
      " [8.60345492e-04]\n",
      " [8.24009538e-01]\n",
      " [9.93624687e-01]\n",
      " [1.89499755e-04]\n",
      " [9.98539567e-01]\n",
      " [2.15281148e-06]\n",
      " [1.22916608e-04]\n",
      " [9.98193204e-01]\n",
      " [9.94634151e-01]\n",
      " [9.87545788e-01]\n",
      " [8.21591735e-01]\n",
      " [9.18385863e-01]\n",
      " [9.32178974e-01]\n",
      " [6.69843256e-01]\n",
      " [3.92565191e-01]\n",
      " [9.93389130e-01]\n",
      " [9.97366369e-01]\n",
      " [8.03310648e-02]\n",
      " [9.89875734e-01]\n",
      " [9.84619439e-01]\n",
      " [9.96381402e-01]\n",
      " [7.08811954e-02]\n",
      " [4.94730310e-04]\n",
      " [9.77674305e-01]\n",
      " [5.75210061e-03]\n",
      " [9.65324938e-01]\n",
      " [9.89301622e-01]\n",
      " [9.95886385e-01]\n",
      " [9.98411775e-01]\n",
      " [3.11745368e-02]\n",
      " [9.96837497e-01]\n",
      " [7.44384527e-01]\n",
      " [9.97738481e-01]\n",
      " [9.96293724e-01]\n",
      " [9.98833001e-01]\n",
      " [4.63323994e-03]\n",
      " [9.97422814e-01]\n",
      " [9.98763204e-01]\n",
      " [9.24862087e-01]\n",
      " [9.91163969e-01]\n",
      " [9.99130547e-01]\n",
      " [5.30617356e-01]\n",
      " [3.02190065e-01]\n",
      " [4.41477820e-02]\n",
      " [9.83357608e-01]\n",
      " [9.48998630e-01]\n",
      " [9.97477591e-01]\n",
      " [5.64900637e-01]\n",
      " [9.46771204e-01]\n",
      " [6.53438568e-01]\n",
      " [6.00405075e-02]\n",
      " [1.18312640e-02]\n",
      " [2.99443007e-01]\n",
      " [9.82189238e-01]\n",
      " [7.12248124e-03]\n",
      " [8.67417574e-01]\n",
      " [9.98782098e-01]\n",
      " [9.95034099e-01]\n",
      " [9.10697222e-01]\n",
      " [6.39142334e-01]\n",
      " [2.62503266e-01]\n",
      " [9.86511230e-01]\n",
      " [2.17127547e-01]\n",
      " [4.45771322e-04]\n",
      " [9.96801853e-01]\n",
      " [8.94372165e-01]\n",
      " [1.17541429e-04]\n",
      " [8.44714999e-01]\n",
      " [9.70053017e-01]\n",
      " [4.50003706e-03]\n",
      " [9.69292164e-01]\n",
      " [4.09595529e-03]\n",
      " [5.62382955e-03]\n",
      " [9.95340943e-01]\n",
      " [5.24284601e-01]\n",
      " [9.67463374e-01]\n",
      " [9.92157221e-01]\n",
      " [7.96649081e-04]\n",
      " [9.98179436e-01]\n",
      " [1.13991089e-01]\n",
      " [9.86300826e-01]\n",
      " [9.86605465e-01]\n",
      " [9.93560076e-01]\n",
      " [9.94569361e-01]\n",
      " [1.64731720e-03]\n",
      " [9.60473657e-01]\n",
      " [9.95051205e-01]\n",
      " [9.98028576e-01]\n",
      " [9.68163013e-01]\n",
      " [9.90891755e-01]\n",
      " [2.32181326e-01]\n",
      " [9.83175755e-01]\n",
      " [9.97875690e-01]\n",
      " [9.84659791e-01]\n",
      " [8.76193225e-01]\n",
      " [1.75664350e-01]\n",
      " [9.99877095e-01]\n",
      " [1.27943431e-03]\n",
      " [9.94179487e-01]\n",
      " [8.05773616e-01]\n",
      " [2.16640942e-02]\n",
      " [6.19849190e-03]\n",
      " [8.64848960e-03]\n",
      " [2.43242690e-03]\n",
      " [1.51563762e-03]\n",
      " [9.03221190e-01]\n",
      " [9.88789678e-01]\n",
      " [9.82361317e-01]\n",
      " [5.90083338e-02]\n",
      " [8.11850548e-01]\n",
      " [1.04599912e-02]\n",
      " [4.34445262e-01]\n",
      " [1.96905926e-01]\n",
      " [9.40625072e-01]\n",
      " [4.13277303e-04]\n",
      " [9.56287801e-01]\n",
      " [9.07990895e-03]\n",
      " [9.84195232e-01]\n",
      " [9.89060760e-01]\n",
      " [5.46107963e-02]\n",
      " [9.96828258e-01]\n",
      " [9.99011755e-01]\n",
      " [2.09348440e-01]\n",
      " [3.71816270e-02]\n",
      " [7.79780865e-01]\n",
      " [2.34771565e-01]\n",
      " [9.97232735e-01]\n",
      " [9.53183115e-01]\n",
      " [9.95199382e-01]\n",
      " [4.02162373e-02]\n",
      " [8.31510186e-01]\n",
      " [1.34331390e-01]\n",
      " [9.87169981e-01]\n",
      " [9.98165786e-01]\n",
      " [9.43120718e-01]\n",
      " [9.98320520e-01]\n",
      " [9.96409953e-01]\n",
      " [9.81668890e-01]\n",
      " [1.71210766e-02]\n",
      " [7.12752715e-02]\n",
      " [9.87169862e-01]\n",
      " [7.50236273e-01]\n",
      " [3.69993795e-04]\n",
      " [9.92632568e-01]\n",
      " [9.49799776e-01]\n",
      " [9.72752750e-01]\n",
      " [9.90029871e-01]\n",
      " [2.48444304e-02]\n",
      " [2.82878298e-02]\n",
      " [9.92282093e-01]\n",
      " [1.17549382e-01]\n",
      " [1.73809749e-04]\n",
      " [9.97530639e-01]\n",
      " [2.13142224e-02]\n",
      " [9.96585608e-01]\n",
      " [9.96987045e-01]\n",
      " [9.90808427e-01]\n",
      " [6.28026545e-01]]\n"
     ]
    }
   ],
   "source": [
    "P = model.predict(X_test)\n",
    "print(P)"
   ]
  },
  {
   "cell_type": "code",
   "execution_count": 23,
   "metadata": {},
   "outputs": [],
   "source": [
    "import numpy as np"
   ]
  },
  {
   "cell_type": "code",
   "execution_count": 24,
   "metadata": {},
   "outputs": [
    {
     "name": "stdout",
     "output_type": "stream",
     "text": [
      "[1. 1. 1. 1. 1. 0. 0. 1. 1. 1. 1. 1. 1. 0. 1. 1. 1. 0. 1. 0. 1. 0. 0. 1.\n",
      " 0. 1. 1. 0. 1. 1. 0. 1. 1. 0. 1. 0. 0. 1. 1. 1. 1. 1. 1. 1. 0. 1. 1. 0.\n",
      " 1. 1. 1. 0. 0. 1. 0. 1. 1. 1. 1. 0. 1. 1. 1. 1. 1. 0. 1. 1. 1. 1. 1. 1.\n",
      " 0. 0. 1. 1. 1. 1. 1. 1. 0. 0. 0. 1. 0. 1. 1. 1. 1. 1. 0. 1. 0. 0. 1. 1.\n",
      " 0. 1. 1. 0. 1. 0. 0. 1. 1. 1. 1. 0. 1. 0. 1. 1. 1. 1. 0. 1. 1. 1. 1. 1.\n",
      " 0. 1. 1. 1. 1. 0. 1. 0. 1. 1. 0. 0. 0. 0. 0. 1. 1. 1. 0. 1. 0. 0. 0. 1.\n",
      " 0. 1. 0. 1. 1. 0. 1. 1. 0. 0. 1. 0. 1. 1. 1. 0. 1. 0. 1. 1. 1. 1. 1. 1.\n",
      " 0. 0. 1. 1. 0. 1. 1. 1. 1. 0. 0. 1. 0. 0. 1. 0. 1. 1. 1. 1.]\n"
     ]
    }
   ],
   "source": [
    "P = np.round(P).flatten()\n",
    "print(P)"
   ]
  },
  {
   "cell_type": "code",
   "execution_count": 26,
   "metadata": {},
   "outputs": [
    {
     "name": "stdout",
     "output_type": "stream",
     "text": [
      "Manually calculated accuracy: 0.973404255319149\n",
      "188/188 [==============================] - 0s 31us/sample - loss: 0.0985 - accuracy: 0.9734\n",
      "Evaluate accuracy: [0.09852134436368942, 0.9734042]\n"
     ]
    }
   ],
   "source": [
    "print(\"Manually calculated accuracy:\", np.mean(P == Y_test))\n",
    "print(\"Evaluate accuracy:\", model.evaluate(X_test,Y_test))"
   ]
  },
  {
   "cell_type": "code",
   "execution_count": 27,
   "metadata": {},
   "outputs": [],
   "source": [
    "model.save('linearclassifier.h5')"
   ]
  },
  {
   "cell_type": "code",
   "execution_count": 28,
   "metadata": {},
   "outputs": [
    {
     "name": "stdout",
     "output_type": "stream",
     "text": [
      "linearclassifier.h5\t\t  TF2.0 Linear Classification.ipynb\r\n",
      "TF2.0 Autoregressive Model.ipynb\r\n"
     ]
    }
   ],
   "source": [
    "!ls"
   ]
  },
  {
   "cell_type": "code",
   "execution_count": 29,
   "metadata": {},
   "outputs": [],
   "source": [
    "model = tf.keras.models.load_model('linearclassifier.h5')"
   ]
  },
  {
   "cell_type": "code",
   "execution_count": 30,
   "metadata": {},
   "outputs": [
    {
     "name": "stdout",
     "output_type": "stream",
     "text": [
      "[<tensorflow.python.keras.layers.core.Dense object at 0x7f57db6e9668>]\n",
      "188/188 [==============================] - 0s 311us/sample - loss: 0.0985 - accuracy: 0.9734\n"
     ]
    },
    {
     "data": {
      "text/plain": [
       "[0.09852134436368942, 0.9734042]"
      ]
     },
     "execution_count": 30,
     "metadata": {},
     "output_type": "execute_result"
    }
   ],
   "source": [
    "print(model.layers)\n",
    "model.evaluate(X_test,Y_test)"
   ]
  },
  {
   "cell_type": "code",
   "execution_count": null,
   "metadata": {},
   "outputs": [],
   "source": []
  }
 ],
 "metadata": {
  "kernelspec": {
   "display_name": "Python 3",
   "language": "python",
   "name": "python3"
  },
  "language_info": {
   "codemirror_mode": {
    "name": "ipython",
    "version": 3
   },
   "file_extension": ".py",
   "mimetype": "text/x-python",
   "name": "python",
   "nbconvert_exporter": "python",
   "pygments_lexer": "ipython3",
   "version": "3.7.3"
  }
 },
 "nbformat": 4,
 "nbformat_minor": 2
}
