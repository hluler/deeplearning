{
 "cells": [
  {
   "cell_type": "code",
   "execution_count": 1,
   "metadata": {},
   "outputs": [],
   "source": [
    "import tensorflow as tf\n",
    "import numpy as np\n",
    "import matplotlib.pyplot as plt\n",
    "from tensorflow.keras.layers import Input, Conv2D, Dense, Flatten, Dropout\n",
    "from tensorflow.keras.models import Model"
   ]
  },
  {
   "cell_type": "code",
   "execution_count": 2,
   "metadata": {},
   "outputs": [
    {
     "name": "stdout",
     "output_type": "stream",
     "text": [
      "Downloading data from https://storage.googleapis.com/tensorflow/tf-keras-datasets/train-labels-idx1-ubyte.gz\n",
      "32768/29515 [=================================] - 0s 11us/step\n",
      "Downloading data from https://storage.googleapis.com/tensorflow/tf-keras-datasets/train-images-idx3-ubyte.gz\n",
      "26427392/26421880 [==============================] - 16s 1us/step\n",
      "Downloading data from https://storage.googleapis.com/tensorflow/tf-keras-datasets/t10k-labels-idx1-ubyte.gz\n",
      "8192/5148 [===============================================] - 0s 0us/step\n",
      "Downloading data from https://storage.googleapis.com/tensorflow/tf-keras-datasets/t10k-images-idx3-ubyte.gz\n",
      "4423680/4422102 [==============================] - 5s 1us/step\n",
      "x_train shape (60000, 28, 28)\n"
     ]
    }
   ],
   "source": [
    "fashion_mnist = tf.keras.datasets.fashion_mnist\n",
    "\n",
    "(x_train, y_train), (x_test, y_test) = fashion_mnist.load_data()\n",
    "\n",
    "x_train = x_train/255.0\n",
    "x_test = x_test/255.0\n",
    "\n",
    "print(\"x_train shape\", x_train.shape)"
   ]
  },
  {
   "cell_type": "code",
   "execution_count": 3,
   "metadata": {},
   "outputs": [
    {
     "name": "stdout",
     "output_type": "stream",
     "text": [
      "(60000, 28, 28, 1)\n"
     ]
    }
   ],
   "source": [
    "x_train = np.expand_dims(x_train, -1)\n",
    "x_test = np.expand_dims(x_test, -1)\n",
    "\n",
    "print(x_train.shape)"
   ]
  },
  {
   "cell_type": "code",
   "execution_count": 6,
   "metadata": {},
   "outputs": [
    {
     "name": "stdout",
     "output_type": "stream",
     "text": [
      "10\n"
     ]
    }
   ],
   "source": [
    "K = len(set(y_train))\n",
    "print(K)"
   ]
  },
  {
   "cell_type": "code",
   "execution_count": 7,
   "metadata": {},
   "outputs": [],
   "source": [
    "i = Input(shape=x_train[0].shape)\n",
    "x = Conv2D(32, (3,3), strides=2, activation='relu')(i)\n",
    "x = Conv2D(64, (3,3), strides=2, activation='relu')(x)\n",
    "x = Conv2D(128, (3,3), strides=2, activation='relu')(x)\n",
    "x = Flatten()(x)\n",
    "x = Dropout(0.2)(x)\n",
    "x = Dense(512, activation='relu')(x)\n",
    "x = Dropout(0.2)(x)\n",
    "x = Dense(K, activation='softmax')(x)\n",
    "\n",
    "model = Model(i,x)"
   ]
  },
  {
   "cell_type": "code",
   "execution_count": 9,
   "metadata": {},
   "outputs": [
    {
     "name": "stdout",
     "output_type": "stream",
     "text": [
      "Train on 60000 samples, validate on 10000 samples\n",
      "Epoch 1/15\n",
      "60000/60000 [==============================] - 10s 169us/sample - loss: 0.5240 - accuracy: 0.8070 - val_loss: 0.4029 - val_accuracy: 0.8472\n",
      "Epoch 2/15\n",
      "60000/60000 [==============================] - 10s 158us/sample - loss: 0.3590 - accuracy: 0.8648 - val_loss: 0.3408 - val_accuracy: 0.8719\n",
      "Epoch 3/15\n",
      "60000/60000 [==============================] - 9s 145us/sample - loss: 0.3067 - accuracy: 0.8849 - val_loss: 0.3308 - val_accuracy: 0.8758\n",
      "Epoch 4/15\n",
      "60000/60000 [==============================] - 9s 151us/sample - loss: 0.2775 - accuracy: 0.8963 - val_loss: 0.2973 - val_accuracy: 0.8923\n",
      "Epoch 5/15\n",
      "60000/60000 [==============================] - 9s 145us/sample - loss: 0.2480 - accuracy: 0.9058 - val_loss: 0.2939 - val_accuracy: 0.8940\n",
      "Epoch 6/15\n",
      "60000/60000 [==============================] - 9s 146us/sample - loss: 0.2304 - accuracy: 0.9136 - val_loss: 0.2791 - val_accuracy: 0.9020\n",
      "Epoch 7/15\n",
      "60000/60000 [==============================] - 9s 149us/sample - loss: 0.2108 - accuracy: 0.9203 - val_loss: 0.3043 - val_accuracy: 0.8943\n",
      "Epoch 8/15\n",
      "60000/60000 [==============================] - 9s 149us/sample - loss: 0.1947 - accuracy: 0.9261 - val_loss: 0.3122 - val_accuracy: 0.8907\n",
      "Epoch 9/15\n",
      "60000/60000 [==============================] - 9s 145us/sample - loss: 0.1815 - accuracy: 0.9318 - val_loss: 0.2956 - val_accuracy: 0.9019\n",
      "Epoch 10/15\n",
      "60000/60000 [==============================] - 9s 146us/sample - loss: 0.1654 - accuracy: 0.9368 - val_loss: 0.3034 - val_accuracy: 0.9043\n",
      "Epoch 11/15\n",
      "60000/60000 [==============================] - 9s 146us/sample - loss: 0.1574 - accuracy: 0.9402 - val_loss: 0.3114 - val_accuracy: 0.9042\n",
      "Epoch 12/15\n",
      "60000/60000 [==============================] - 9s 145us/sample - loss: 0.1478 - accuracy: 0.9430 - val_loss: 0.3195 - val_accuracy: 0.8998\n",
      "Epoch 13/15\n",
      "60000/60000 [==============================] - 9s 151us/sample - loss: 0.1384 - accuracy: 0.9472 - val_loss: 0.3219 - val_accuracy: 0.9050\n",
      "Epoch 14/15\n",
      "60000/60000 [==============================] - 9s 158us/sample - loss: 0.1279 - accuracy: 0.9514 - val_loss: 0.3514 - val_accuracy: 0.9022\n",
      "Epoch 15/15\n",
      "60000/60000 [==============================] - 9s 146us/sample - loss: 0.1238 - accuracy: 0.9527 - val_loss: 0.3405 - val_accuracy: 0.9035\n"
     ]
    }
   ],
   "source": [
    "model.compile(optimizer='adam', loss='sparse_categorical_crossentropy', metrics=['accuracy'])\n",
    "\n",
    "r = model.fit(x_train, y_train, validation_data=(x_test, y_test), epochs=15)"
   ]
  },
  {
   "cell_type": "code",
   "execution_count": 10,
   "metadata": {},
   "outputs": [
    {
     "data": {
      "image/png": "[encoded data removed]",
      "text/plain": [
       "<Figure size 432x288 with 1 Axes>"
      ]
     },
     "metadata": {
      "needs_background": "light"
     },
     "output_type": "display_data"
    }
   ],
   "source": [
    "plt.plot(r.history['loss'], label='loss')\n",
    "plt.plot(r.history['val_loss'], label='val_loss')\n",
    "plt.show()"
   ]
  },
  {
   "cell_type": "code",
   "execution_count": 11,
   "metadata": {},
   "outputs": [
    {
     "data": {
      "image/png": "[encoded data removed]",
      "text/plain": [
       "<Figure size 432x288 with 1 Axes>"
      ]
     },
     "metadata": {
      "needs_background": "light"
     },
     "output_type": "display_data"
    }
   ],
   "source": [
    "plt.plot(r.history['accuracy'], label='accuracy')\n",
    "plt.plot(r.history['val_accuracy'], label='val_accuracy')\n",
    "plt.show()"
   ]
  },
  {
   "cell_type": "code",
   "execution_count": 12,
   "metadata": {},
   "outputs": [
    {
     "name": "stdout",
     "output_type": "stream",
     "text": [
      "Model: \"model\"\n",
      "_________________________________________________________________\n",
      "Layer (type)                 Output Shape              Param #   \n",
      "=================================================================\n",
      "input_1 (InputLayer)         [(None, 28, 28, 1)]       0         \n",
      "_________________________________________________________________\n",
      "conv2d (Conv2D)              (None, 13, 13, 32)        320       \n",
      "_________________________________________________________________\n",
      "conv2d_1 (Conv2D)            (None, 6, 6, 64)          18496     \n",
      "_________________________________________________________________\n",
      "conv2d_2 (Conv2D)            (None, 2, 2, 128)         73856     \n",
      "_________________________________________________________________\n",
      "flatten (Flatten)            (None, 512)               0         \n",
      "_________________________________________________________________\n",
      "dropout (Dropout)            (None, 512)               0         \n",
      "_________________________________________________________________\n",
      "dense (Dense)                (None, 512)               262656    \n",
      "_________________________________________________________________\n",
      "dropout_1 (Dropout)          (None, 512)               0         \n",
      "_________________________________________________________________\n",
      "dense_1 (Dense)              (None, 10)                5130      \n",
      "=================================================================\n",
      "Total params: 360,458\n",
      "Trainable params: 360,458\n",
      "Non-trainable params: 0\n",
      "_________________________________________________________________\n"
     ]
    }
   ],
   "source": [
    "model.summary()"
   ]
  },
  {
   "cell_type": "code",
   "execution_count": null,
   "metadata": {},
   "outputs": [],
   "source": []
  }
 ],
 "metadata": {
  "kernelspec": {
   "display_name": "Python 3",
   "language": "python",
   "name": "python3"
  },
  "language_info": {
   "codemirror_mode": {
    "name": "ipython",
    "version": 3
   },
   "file_extension": ".py",
   "mimetype": "text/x-python",
   "name": "python",
   "nbconvert_exporter": "python",
   "pygments_lexer": "ipython3",
   "version": "3.7.3"
  }
 },
 "nbformat": 4,
 "nbformat_minor": 2
}
