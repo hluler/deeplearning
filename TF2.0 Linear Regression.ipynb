{
 "cells": [
  {
   "cell_type": "code",
   "execution_count": 1,
   "metadata": {},
   "outputs": [
    {
     "name": "stdout",
     "output_type": "stream",
     "text": [
      "--2020-04-30 10:26:27--  https://raw.githubusercontent.com/lazyprogrammer/machine_learning_examples/master/tf2.0/moore.csv\n",
      "Resolving raw.githubusercontent.com (raw.githubusercontent.com)... 151.101.228.133\n",
      "Connecting to raw.githubusercontent.com (raw.githubusercontent.com)|151.101.228.133|:443... connected.\n",
      "HTTP request sent, awaiting response... 200 OK\n",
      "Length: 2302 (2.2K) [text/plain]\n",
      "Saving to: ‘moore.csv’\n",
      "\n",
      "moore.csv           100%[===================>]   2.25K  --.-KB/s    in 0s      \n",
      "\n",
      "2020-04-30 10:26:28 (18.7 MB/s) - ‘moore.csv’ saved [2302/2302]\n",
      "\n"
     ]
    }
   ],
   "source": [
    "!wget https://raw.githubusercontent.com/lazyprogrammer/machine_learning_examples/master/tf2.0/moore.csv"
   ]
  },
  {
   "cell_type": "code",
   "execution_count": 8,
   "metadata": {},
   "outputs": [],
   "source": [
    "import pandas as pd\n",
    "import matplotlib.pyplot as plt\n",
    "import numpy as np"
   ]
  },
  {
   "cell_type": "code",
   "execution_count": 9,
   "metadata": {},
   "outputs": [],
   "source": [
    "data = pd.read_csv('moore.csv', header=None).values\n",
    "X = data[:,0].reshape(-1,1)\n",
    "Y = data[:,1]"
   ]
  },
  {
   "cell_type": "code",
   "execution_count": 13,
   "metadata": {},
   "outputs": [
    {
     "data": {
      "text/plain": [
       "<matplotlib.collections.PathCollection at 0x7f6eeb2d07f0>"
      ]
     },
     "execution_count": 13,
     "metadata": {},
     "output_type": "execute_result"
    },
    {
     "data": {
      "image/png": "[encoded data removed]",
      "text/plain": [
       "<Figure size 432x288 with 1 Axes>"
      ]
     },
     "metadata": {
      "needs_background": "light"
     },
     "output_type": "display_data"
    }
   ],
   "source": [
    "plt.scatter(X,Y)"
   ]
  },
  {
   "cell_type": "code",
   "execution_count": 14,
   "metadata": {},
   "outputs": [
    {
     "data": {
      "text/plain": [
       "<matplotlib.collections.PathCollection at 0x7f6eeb18cc88>"
      ]
     },
     "execution_count": 14,
     "metadata": {},
     "output_type": "execute_result"
    },
    {
     "data": {
      "image/png": "[encoded data removed]",
      "text/plain": [
       "<Figure size 432x288 with 1 Axes>"
      ]
     },
     "metadata": {
      "needs_background": "light"
     },
     "output_type": "display_data"
    }
   ],
   "source": [
    "Y = np.log(Y)\n",
    "plt.scatter(X,Y)"
   ]
  },
  {
   "cell_type": "code",
   "execution_count": 15,
   "metadata": {},
   "outputs": [],
   "source": [
    "X = X - X.mean()"
   ]
  },
  {
   "cell_type": "code",
   "execution_count": 16,
   "metadata": {},
   "outputs": [],
   "source": [
    "import tensorflow as tf"
   ]
  },
  {
   "cell_type": "code",
   "execution_count": 19,
   "metadata": {},
   "outputs": [
    {
     "name": "stdout",
     "output_type": "stream",
     "text": [
      "Train on 162 samples\n",
      "Epoch 1/200\n",
      "162/162 [==============================] - 0s 735us/sample - loss: 382.2536\n",
      "Epoch 2/200\n",
      "162/162 [==============================] - 0s 49us/sample - loss: 285.3438\n",
      "Epoch 3/200\n",
      "162/162 [==============================] - 0s 32us/sample - loss: 271.9848\n",
      "Epoch 4/200\n",
      "162/162 [==============================] - 0s 49us/sample - loss: 196.5573\n",
      "Epoch 5/200\n",
      "162/162 [==============================] - 0s 43us/sample - loss: 175.7914\n",
      "Epoch 6/200\n",
      "162/162 [==============================] - 0s 56us/sample - loss: 184.1604\n",
      "Epoch 7/200\n",
      "162/162 [==============================] - 0s 44us/sample - loss: 164.2979\n",
      "Epoch 8/200\n",
      "162/162 [==============================] - 0s 63us/sample - loss: 124.2249\n",
      "Epoch 9/200\n",
      "162/162 [==============================] - 0s 43us/sample - loss: 70.4681\n",
      "Epoch 10/200\n",
      "162/162 [==============================] - 0s 62us/sample - loss: 52.6681\n",
      "Epoch 11/200\n",
      "162/162 [==============================] - 0s 56us/sample - loss: 47.4714\n",
      "Epoch 12/200\n",
      "162/162 [==============================] - 0s 43us/sample - loss: 37.9664\n",
      "Epoch 13/200\n",
      "162/162 [==============================] - 0s 58us/sample - loss: 38.3607\n",
      "Epoch 14/200\n",
      "162/162 [==============================] - 0s 46us/sample - loss: 24.0965\n",
      "Epoch 15/200\n",
      "162/162 [==============================] - 0s 52us/sample - loss: 9.0055\n",
      "Epoch 16/200\n",
      "162/162 [==============================] - 0s 53us/sample - loss: 6.2119\n",
      "Epoch 17/200\n",
      "162/162 [==============================] - 0s 44us/sample - loss: 4.5819\n",
      "Epoch 18/200\n",
      "162/162 [==============================] - 0s 59us/sample - loss: 5.1217\n",
      "Epoch 19/200\n",
      "162/162 [==============================] - 0s 51us/sample - loss: 5.4940\n",
      "Epoch 20/200\n",
      "162/162 [==============================] - 0s 52us/sample - loss: 3.2075\n",
      "Epoch 21/200\n",
      "162/162 [==============================] - 0s 51us/sample - loss: 2.5253\n",
      "Epoch 22/200\n",
      "162/162 [==============================] - 0s 51us/sample - loss: 1.7719\n",
      "Epoch 23/200\n",
      "162/162 [==============================] - 0s 74us/sample - loss: 2.4604\n",
      "Epoch 24/200\n",
      "162/162 [==============================] - 0s 50us/sample - loss: 2.0039\n",
      "Epoch 25/200\n",
      "162/162 [==============================] - 0s 54us/sample - loss: 1.7247\n",
      "Epoch 26/200\n",
      "162/162 [==============================] - 0s 62us/sample - loss: 1.1422\n",
      "Epoch 27/200\n",
      "162/162 [==============================] - 0s 44us/sample - loss: 1.1201\n",
      "Epoch 28/200\n",
      "162/162 [==============================] - 0s 64us/sample - loss: 1.0662\n",
      "Epoch 29/200\n",
      "162/162 [==============================] - 0s 47us/sample - loss: 0.9598\n",
      "Epoch 30/200\n",
      "162/162 [==============================] - 0s 54us/sample - loss: 0.9616\n",
      "Epoch 31/200\n",
      "162/162 [==============================] - 0s 62us/sample - loss: 0.9200\n",
      "Epoch 32/200\n",
      "162/162 [==============================] - 0s 38us/sample - loss: 0.9287\n",
      "Epoch 33/200\n",
      "162/162 [==============================] - 0s 60us/sample - loss: 0.9281\n",
      "Epoch 34/200\n",
      "162/162 [==============================] - 0s 50us/sample - loss: 0.9194\n",
      "Epoch 35/200\n",
      "162/162 [==============================] - 0s 48us/sample - loss: 0.9003\n",
      "Epoch 36/200\n",
      "162/162 [==============================] - 0s 63us/sample - loss: 0.9165\n",
      "Epoch 37/200\n",
      "162/162 [==============================] - 0s 42us/sample - loss: 0.8911\n",
      "Epoch 38/200\n",
      "162/162 [==============================] - 0s 51us/sample - loss: 0.9650\n",
      "Epoch 39/200\n",
      "162/162 [==============================] - 0s 52us/sample - loss: 0.9088\n",
      "Epoch 40/200\n",
      "162/162 [==============================] - 0s 51us/sample - loss: 0.8870\n",
      "Epoch 41/200\n",
      "162/162 [==============================] - 0s 54us/sample - loss: 0.8893\n",
      "Epoch 42/200\n",
      "162/162 [==============================] - 0s 43us/sample - loss: 0.8841\n",
      "Epoch 43/200\n",
      "162/162 [==============================] - 0s 69us/sample - loss: 1.0029\n",
      "Epoch 44/200\n",
      "162/162 [==============================] - 0s 46us/sample - loss: 0.9057\n",
      "Epoch 45/200\n",
      "162/162 [==============================] - 0s 55us/sample - loss: 1.5161\n",
      "Epoch 46/200\n",
      "162/162 [==============================] - 0s 48us/sample - loss: 1.3543\n",
      "Epoch 47/200\n",
      "162/162 [==============================] - 0s 54us/sample - loss: 1.1282\n",
      "Epoch 48/200\n",
      "162/162 [==============================] - 0s 55us/sample - loss: 1.2852\n",
      "Epoch 49/200\n",
      "162/162 [==============================] - 0s 56us/sample - loss: 1.1557\n",
      "Epoch 50/200\n",
      "162/162 [==============================] - 0s 55us/sample - loss: 1.0212\n",
      "Epoch 51/200\n",
      "162/162 [==============================] - 0s 46us/sample - loss: 0.8945\n",
      "Epoch 52/200\n",
      "162/162 [==============================] - 0s 53us/sample - loss: 0.8896\n",
      "Epoch 53/200\n",
      "162/162 [==============================] - 0s 54us/sample - loss: 0.9859\n",
      "Epoch 54/200\n",
      "162/162 [==============================] - 0s 52us/sample - loss: 0.8857\n",
      "Epoch 55/200\n",
      "162/162 [==============================] - 0s 66us/sample - loss: 0.9055\n",
      "Epoch 56/200\n",
      "162/162 [==============================] - 0s 49us/sample - loss: 0.9751\n",
      "Epoch 57/200\n",
      "162/162 [==============================] - 0s 46us/sample - loss: 0.9398\n",
      "Epoch 58/200\n",
      "162/162 [==============================] - 0s 55us/sample - loss: 0.9595\n",
      "Epoch 59/200\n",
      "162/162 [==============================] - 0s 55us/sample - loss: 0.8977\n",
      "Epoch 60/200\n",
      "162/162 [==============================] - 0s 41us/sample - loss: 1.1008\n",
      "Epoch 61/200\n",
      "162/162 [==============================] - 0s 66us/sample - loss: 1.1379\n",
      "Epoch 62/200\n",
      "162/162 [==============================] - 0s 50us/sample - loss: 0.9301\n",
      "Epoch 63/200\n",
      "162/162 [==============================] - 0s 55us/sample - loss: 1.4791\n",
      "Epoch 64/200\n",
      "162/162 [==============================] - 0s 49us/sample - loss: 1.2809\n",
      "Epoch 65/200\n",
      "162/162 [==============================] - 0s 56us/sample - loss: 0.9639\n",
      "Epoch 66/200\n",
      "162/162 [==============================] - 0s 58us/sample - loss: 0.9344\n",
      "Epoch 67/200\n",
      "162/162 [==============================] - 0s 42us/sample - loss: 0.9911\n",
      "Epoch 68/200\n",
      "162/162 [==============================] - 0s 53us/sample - loss: 0.9345\n",
      "Epoch 69/200\n",
      "162/162 [==============================] - 0s 48us/sample - loss: 0.9614\n",
      "Epoch 70/200\n",
      "162/162 [==============================] - 0s 52us/sample - loss: 0.9447\n",
      "Epoch 71/200\n",
      "162/162 [==============================] - 0s 67us/sample - loss: 0.8933\n",
      "Epoch 72/200\n",
      "162/162 [==============================] - 0s 54us/sample - loss: 0.8797\n",
      "Epoch 73/200\n",
      "162/162 [==============================] - 0s 56us/sample - loss: 0.9313\n",
      "Epoch 74/200\n",
      "162/162 [==============================] - 0s 53us/sample - loss: 0.9015\n",
      "Epoch 75/200\n",
      "162/162 [==============================] - 0s 44us/sample - loss: 0.9062\n",
      "Epoch 76/200\n",
      "162/162 [==============================] - 0s 52us/sample - loss: 0.9497\n",
      "Epoch 77/200\n",
      "162/162 [==============================] - 0s 54us/sample - loss: 0.9172\n",
      "Epoch 78/200\n",
      "162/162 [==============================] - 0s 66us/sample - loss: 0.9477\n",
      "Epoch 79/200\n",
      "162/162 [==============================] - 0s 53us/sample - loss: 0.8778\n",
      "Epoch 80/200\n",
      "162/162 [==============================] - 0s 50us/sample - loss: 0.9046\n",
      "Epoch 81/200\n",
      "162/162 [==============================] - 0s 46us/sample - loss: 0.9294\n",
      "Epoch 82/200\n",
      "162/162 [==============================] - 0s 51us/sample - loss: 0.8855\n",
      "Epoch 83/200\n",
      "162/162 [==============================] - 0s 59us/sample - loss: 0.8943\n",
      "Epoch 84/200\n",
      "162/162 [==============================] - 0s 47us/sample - loss: 0.9248\n",
      "Epoch 85/200\n",
      "162/162 [==============================] - 0s 66us/sample - loss: 0.9146\n",
      "Epoch 86/200\n",
      "162/162 [==============================] - 0s 63us/sample - loss: 0.9082\n",
      "Epoch 87/200\n",
      "162/162 [==============================] - 0s 50us/sample - loss: 0.9078\n",
      "Epoch 88/200\n",
      "162/162 [==============================] - 0s 51us/sample - loss: 1.0751\n",
      "Epoch 89/200\n",
      "162/162 [==============================] - 0s 55us/sample - loss: 0.9557\n",
      "Epoch 90/200\n",
      "162/162 [==============================] - 0s 52us/sample - loss: 0.9230\n",
      "Epoch 91/200\n",
      "162/162 [==============================] - 0s 49us/sample - loss: 0.9515\n",
      "Epoch 92/200\n",
      "162/162 [==============================] - 0s 43us/sample - loss: 0.9890\n",
      "Epoch 93/200\n",
      "162/162 [==============================] - 0s 51us/sample - loss: 0.9055\n",
      "Epoch 94/200\n",
      "162/162 [==============================] - 0s 51us/sample - loss: 0.9412\n",
      "Epoch 95/200\n"
     ]
    },
    {
     "name": "stdout",
     "output_type": "stream",
     "text": [
      "162/162 [==============================] - 0s 54us/sample - loss: 0.9155\n",
      "Epoch 96/200\n",
      "162/162 [==============================] - 0s 47us/sample - loss: 0.9693\n",
      "Epoch 97/200\n",
      "162/162 [==============================] - 0s 52us/sample - loss: 0.8924\n",
      "Epoch 98/200\n",
      "162/162 [==============================] - 0s 41us/sample - loss: 0.8905\n",
      "Epoch 99/200\n",
      "162/162 [==============================] - 0s 60us/sample - loss: 0.9067\n",
      "Epoch 100/200\n",
      "162/162 [==============================] - 0s 49us/sample - loss: 0.8877\n",
      "Epoch 101/200\n",
      "162/162 [==============================] - 0s 44us/sample - loss: 0.9061\n",
      "Epoch 102/200\n",
      "162/162 [==============================] - 0s 50us/sample - loss: 0.8949\n",
      "Epoch 103/200\n",
      "162/162 [==============================] - 0s 40us/sample - loss: 0.8747\n",
      "Epoch 104/200\n",
      "162/162 [==============================] - 0s 46us/sample - loss: 0.9131\n",
      "Epoch 105/200\n",
      "162/162 [==============================] - 0s 42us/sample - loss: 0.9478\n",
      "Epoch 106/200\n",
      "162/162 [==============================] - 0s 50us/sample - loss: 0.9064\n",
      "Epoch 107/200\n",
      "162/162 [==============================] - 0s 41us/sample - loss: 0.8747\n",
      "Epoch 108/200\n",
      "162/162 [==============================] - 0s 60us/sample - loss: 0.9901\n",
      "Epoch 109/200\n",
      "162/162 [==============================] - 0s 37us/sample - loss: 0.9424\n",
      "Epoch 110/200\n",
      "162/162 [==============================] - 0s 52us/sample - loss: 0.8912\n",
      "Epoch 111/200\n",
      "162/162 [==============================] - 0s 38us/sample - loss: 0.8809\n",
      "Epoch 112/200\n",
      "162/162 [==============================] - 0s 59us/sample - loss: 0.9980\n",
      "Epoch 113/200\n",
      "162/162 [==============================] - 0s 47us/sample - loss: 1.2149\n",
      "Epoch 114/200\n",
      "162/162 [==============================] - 0s 46us/sample - loss: 1.1149\n",
      "Epoch 115/200\n",
      "162/162 [==============================] - 0s 44us/sample - loss: 1.0116\n",
      "Epoch 116/200\n",
      "162/162 [==============================] - 0s 44us/sample - loss: 0.8897\n",
      "Epoch 117/200\n",
      "162/162 [==============================] - 0s 49us/sample - loss: 1.0080\n",
      "Epoch 118/200\n",
      "162/162 [==============================] - 0s 50us/sample - loss: 0.9089\n",
      "Epoch 119/200\n",
      "162/162 [==============================] - 0s 54us/sample - loss: 0.9101\n",
      "Epoch 120/200\n",
      "162/162 [==============================] - 0s 38us/sample - loss: 0.9087\n",
      "Epoch 121/200\n",
      "162/162 [==============================] - 0s 57us/sample - loss: 0.9471\n",
      "Epoch 122/200\n",
      "162/162 [==============================] - 0s 42us/sample - loss: 0.9738\n",
      "Epoch 123/200\n",
      "162/162 [==============================] - 0s 50us/sample - loss: 0.9623\n",
      "Epoch 124/200\n",
      "162/162 [==============================] - 0s 38us/sample - loss: 0.9215\n",
      "Epoch 125/200\n",
      "162/162 [==============================] - 0s 52us/sample - loss: 0.8770\n",
      "Epoch 126/200\n",
      "162/162 [==============================] - 0s 52us/sample - loss: 0.8922\n",
      "Epoch 127/200\n",
      "162/162 [==============================] - 0s 46us/sample - loss: 0.8980\n",
      "Epoch 128/200\n",
      "162/162 [==============================] - 0s 43us/sample - loss: 0.9012\n",
      "Epoch 129/200\n",
      "162/162 [==============================] - 0s 50us/sample - loss: 0.8879\n",
      "Epoch 130/200\n",
      "162/162 [==============================] - 0s 44us/sample - loss: 0.9999\n",
      "Epoch 131/200\n",
      "162/162 [==============================] - 0s 46us/sample - loss: 1.0430\n",
      "Epoch 132/200\n",
      "162/162 [==============================] - 0s 53us/sample - loss: 0.9503\n",
      "Epoch 133/200\n",
      "162/162 [==============================] - 0s 45us/sample - loss: 0.9337\n",
      "Epoch 134/200\n",
      "162/162 [==============================] - 0s 49us/sample - loss: 0.9052\n",
      "Epoch 135/200\n",
      "162/162 [==============================] - 0s 41us/sample - loss: 0.9067\n",
      "Epoch 136/200\n",
      "162/162 [==============================] - 0s 53us/sample - loss: 0.9688\n",
      "Epoch 137/200\n",
      "162/162 [==============================] - 0s 42us/sample - loss: 0.9070\n",
      "Epoch 138/200\n",
      "162/162 [==============================] - 0s 49us/sample - loss: 0.9854\n",
      "Epoch 139/200\n",
      "162/162 [==============================] - 0s 40us/sample - loss: 0.9253\n",
      "Epoch 140/200\n",
      "162/162 [==============================] - 0s 49us/sample - loss: 0.8825\n",
      "Epoch 141/200\n",
      "162/162 [==============================] - 0s 43us/sample - loss: 0.8769\n",
      "Epoch 142/200\n",
      "162/162 [==============================] - 0s 45us/sample - loss: 0.8764\n",
      "Epoch 143/200\n",
      "162/162 [==============================] - 0s 44us/sample - loss: 0.8779\n",
      "Epoch 144/200\n",
      "162/162 [==============================] - 0s 47us/sample - loss: 0.9098\n",
      "Epoch 145/200\n",
      "162/162 [==============================] - 0s 44us/sample - loss: 0.9003\n",
      "Epoch 146/200\n",
      "162/162 [==============================] - 0s 51us/sample - loss: 0.8801\n",
      "Epoch 147/200\n",
      "162/162 [==============================] - 0s 46us/sample - loss: 0.8792\n",
      "Epoch 148/200\n",
      "162/162 [==============================] - 0s 46us/sample - loss: 0.9450\n",
      "Epoch 149/200\n",
      "162/162 [==============================] - 0s 45us/sample - loss: 1.0508\n",
      "Epoch 150/200\n",
      "162/162 [==============================] - 0s 44us/sample - loss: 1.0013\n",
      "Epoch 151/200\n",
      "162/162 [==============================] - 0s 49us/sample - loss: 0.9857\n",
      "Epoch 152/200\n",
      "162/162 [==============================] - 0s 47us/sample - loss: 0.9423\n",
      "Epoch 153/200\n",
      "162/162 [==============================] - 0s 49us/sample - loss: 0.9690\n",
      "Epoch 154/200\n",
      "162/162 [==============================] - 0s 42us/sample - loss: 0.9228\n",
      "Epoch 155/200\n",
      "162/162 [==============================] - 0s 47us/sample - loss: 0.8721\n",
      "Epoch 156/200\n",
      "162/162 [==============================] - 0s 42us/sample - loss: 0.8890\n",
      "Epoch 157/200\n",
      "162/162 [==============================] - 0s 48us/sample - loss: 1.0460\n",
      "Epoch 158/200\n",
      "162/162 [==============================] - 0s 47us/sample - loss: 1.3519\n",
      "Epoch 159/200\n",
      "162/162 [==============================] - 0s 52us/sample - loss: 1.2064\n",
      "Epoch 160/200\n",
      "162/162 [==============================] - 0s 48us/sample - loss: 1.1454\n",
      "Epoch 161/200\n",
      "162/162 [==============================] - 0s 53us/sample - loss: 1.0501\n",
      "Epoch 162/200\n",
      "162/162 [==============================] - 0s 42us/sample - loss: 0.9531\n",
      "Epoch 163/200\n",
      "162/162 [==============================] - 0s 53us/sample - loss: 0.9112\n",
      "Epoch 164/200\n",
      "162/162 [==============================] - 0s 45us/sample - loss: 1.0058\n",
      "Epoch 165/200\n",
      "162/162 [==============================] - 0s 44us/sample - loss: 0.9253\n",
      "Epoch 166/200\n",
      "162/162 [==============================] - 0s 45us/sample - loss: 0.9054\n",
      "Epoch 167/200\n",
      "162/162 [==============================] - 0s 45us/sample - loss: 0.8846\n",
      "Epoch 168/200\n",
      "162/162 [==============================] - 0s 50us/sample - loss: 0.9597\n",
      "Epoch 169/200\n",
      "162/162 [==============================] - 0s 47us/sample - loss: 1.1225\n",
      "Epoch 170/200\n",
      "162/162 [==============================] - 0s 45us/sample - loss: 1.2042\n",
      "Epoch 171/200\n",
      "162/162 [==============================] - 0s 54us/sample - loss: 1.2411\n",
      "Epoch 172/200\n",
      "162/162 [==============================] - 0s 54us/sample - loss: 1.0760\n",
      "Epoch 173/200\n",
      "162/162 [==============================] - 0s 51us/sample - loss: 1.0733\n",
      "Epoch 174/200\n",
      "162/162 [==============================] - 0s 46us/sample - loss: 1.1827\n",
      "Epoch 175/200\n",
      "162/162 [==============================] - 0s 47us/sample - loss: 0.9520\n",
      "Epoch 176/200\n",
      "162/162 [==============================] - 0s 47us/sample - loss: 0.9871\n",
      "Epoch 177/200\n",
      "162/162 [==============================] - 0s 47us/sample - loss: 1.4557\n",
      "Epoch 178/200\n",
      "162/162 [==============================] - 0s 51us/sample - loss: 1.1890\n",
      "Epoch 179/200\n",
      "162/162 [==============================] - 0s 55us/sample - loss: 0.9111\n",
      "Epoch 180/200\n",
      "162/162 [==============================] - 0s 46us/sample - loss: 1.7189\n",
      "Epoch 181/200\n",
      "162/162 [==============================] - 0s 49us/sample - loss: 1.3600\n",
      "Epoch 182/200\n",
      "162/162 [==============================] - 0s 47us/sample - loss: 1.2683\n",
      "Epoch 183/200\n",
      "162/162 [==============================] - 0s 43us/sample - loss: 1.6606\n",
      "Epoch 184/200\n",
      "162/162 [==============================] - 0s 43us/sample - loss: 1.3488\n",
      "Epoch 185/200\n",
      "162/162 [==============================] - 0s 54us/sample - loss: 1.0641\n",
      "Epoch 186/200\n",
      "162/162 [==============================] - 0s 43us/sample - loss: 1.0181\n",
      "Epoch 187/200\n",
      "162/162 [==============================] - 0s 44us/sample - loss: 0.8955\n",
      "Epoch 188/200\n",
      "162/162 [==============================] - 0s 46us/sample - loss: 0.8732\n",
      "Epoch 189/200\n"
     ]
    },
    {
     "name": "stdout",
     "output_type": "stream",
     "text": [
      "162/162 [==============================] - 0s 43us/sample - loss: 0.9207\n",
      "Epoch 190/200\n",
      "162/162 [==============================] - 0s 41us/sample - loss: 0.8884\n",
      "Epoch 191/200\n",
      "162/162 [==============================] - 0s 54us/sample - loss: 0.9499\n",
      "Epoch 192/200\n",
      "162/162 [==============================] - 0s 46us/sample - loss: 0.9150\n",
      "Epoch 193/200\n",
      "162/162 [==============================] - 0s 43us/sample - loss: 0.9227\n",
      "Epoch 194/200\n",
      "162/162 [==============================] - 0s 45us/sample - loss: 0.9252\n",
      "Epoch 195/200\n",
      "162/162 [==============================] - 0s 48us/sample - loss: 0.8824\n",
      "Epoch 196/200\n",
      "162/162 [==============================] - 0s 45us/sample - loss: 0.9004\n",
      "Epoch 197/200\n",
      "162/162 [==============================] - 0s 47us/sample - loss: 0.9109\n",
      "Epoch 198/200\n",
      "162/162 [==============================] - 0s 49us/sample - loss: 0.9040\n",
      "Epoch 199/200\n",
      "162/162 [==============================] - 0s 51us/sample - loss: 0.9445\n",
      "Epoch 200/200\n",
      "162/162 [==============================] - 0s 41us/sample - loss: 0.9336\n"
     ]
    }
   ],
   "source": [
    "model = tf.keras.models.Sequential([\n",
    "    tf.keras.layers.Input(shape=(1,)),\n",
    "    tf.keras.layers.Dense(1)\n",
    "])\n",
    "\n",
    "model.compile(optimizer=tf.keras.optimizers.SGD(0.001, 0.9), loss='mse')\n",
    "\n",
    "def schedule(epoch, lr):\n",
    "    if epoch >= 50:\n",
    "        lr = 0.00001\n",
    "    return 0.001\n",
    "\n",
    "\n",
    "scheduler = tf.keras.callbacks.LearningRateScheduler(schedule)\n",
    "\n",
    "r = model.fit(X, Y, epochs=200, callbacks=[scheduler])"
   ]
  },
  {
   "cell_type": "code",
   "execution_count": 21,
   "metadata": {},
   "outputs": [
    {
     "data": {
      "text/plain": [
       "[<matplotlib.lines.Line2D at 0x7f6e984200b8>]"
      ]
     },
     "execution_count": 21,
     "metadata": {},
     "output_type": "execute_result"
    },
    {
     "data": {
      "image/png": "[encoded data removed]",
      "text/plain": [
       "<Figure size 432x288 with 1 Axes>"
      ]
     },
     "metadata": {
      "needs_background": "light"
     },
     "output_type": "display_data"
    }
   ],
   "source": [
    "plt.plot(r.history['loss'],label='loss')"
   ]
  },
  {
   "cell_type": "code",
   "execution_count": 22,
   "metadata": {},
   "outputs": [
    {
     "data": {
      "text/plain": [
       "[<matplotlib.lines.Line2D at 0x7f6dfeec7dd8>]"
      ]
     },
     "execution_count": 22,
     "metadata": {},
     "output_type": "execute_result"
    },
    {
     "data": {
      "image/png": "[encoded data removed]",
      "text/plain": [
       "<Figure size 432x288 with 1 Axes>"
      ]
     },
     "metadata": {
      "needs_background": "light"
     },
     "output_type": "display_data"
    }
   ],
   "source": [
    "Yhat = model.predict(X).flatten()\n",
    "plt.scatter(X,Y)\n",
    "plt.plot(X, Yhat)"
   ]
  },
  {
   "cell_type": "code",
   "execution_count": null,
   "metadata": {},
   "outputs": [],
   "source": []
  }
 ],
 "metadata": {
  "kernelspec": {
   "display_name": "Python 3",
   "language": "python",
   "name": "python3"
  },
  "language_info": {
   "codemirror_mode": {
    "name": "ipython",
    "version": 3
   },
   "file_extension": ".py",
   "mimetype": "text/x-python",
   "name": "python",
   "nbconvert_exporter": "python",
   "pygments_lexer": "ipython3",
   "version": "3.7.3"
  }
 },
 "nbformat": 4,
 "nbformat_minor": 2
}
